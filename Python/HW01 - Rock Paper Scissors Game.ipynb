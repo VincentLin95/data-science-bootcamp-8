{
  "nbformat": 4,
  "nbformat_minor": 0,
  "metadata": {
    "colab": {
      "provenance": [],
      "authorship_tag": "ABX9TyMmFogwRuRa31R3dpAHv0tJ",
      "include_colab_link": true
    },
    "kernelspec": {
      "name": "python3",
      "display_name": "Python 3"
    },
    "language_info": {
      "name": "python"
    }
  },
  "cells": [
    {
      "cell_type": "markdown",
      "metadata": {
        "id": "view-in-github",
        "colab_type": "text"
      },
      "source": [
        "<a href=\"https://colab.research.google.com/github/VincentLin95/data-science-bootcamp-8/blob/main/Python/HW01%20-%20Rock%20Paper%20Scissors%20Game.ipynb\" target=\"_parent\"><img src=\"https://colab.research.google.com/assets/colab-badge.svg\" alt=\"Open In Colab\"/></a>"
      ]
    },
    {
      "cell_type": "code",
      "execution_count": 2,
      "metadata": {
        "colab": {
          "base_uri": "https://localhost:8080/"
        },
        "id": "ZGwK3MhFMvEt",
        "outputId": "8e7f2e4a-797d-4814-a76d-7f6016cd419b"
      },
      "outputs": [
        {
          "output_type": "stream",
          "name": "stdout",
          "text": [
            "Hello, welcome to 'Rock Paper Scissor Game'. The simple game in everyone childhood.\n",
            "Let's recap the rule. The '>' represents 'beat'.\n",
            "Rock > Scissors\n",
            "Scissors > Paper\n",
            "Paper > Rock\n",
            "Sounds easy?, you know the rule clearly right now. Are you ready? Type 'Y' to start, or 'N' to exit the game.\n",
            "Y\n",
            "You can choose your action by type 'Rock', 'Paper', or 'Scissors' as you need.\n",
            "In case you want to quit the game, type 'Q'.\n",
            "Rock...Paper...Scissors!!: Rock\n",
            "The result is: 'Draw!'\n",
            "You can choose your action by type 'Rock', 'Paper', or 'Scissors' as you need.\n",
            "In case you want to quit the game, type 'Q'.\n",
            "Rock...Paper...Scissors!!: Paper\n",
            "The result is: 'Win!'\n",
            "You can choose your action by type 'Rock', 'Paper', or 'Scissors' as you need.\n",
            "In case you want to quit the game, type 'Q'.\n",
            "Rock...Paper...Scissors!!: Scissors\n",
            "The result is: 'Loss!'\n",
            "You can choose your action by type 'Rock', 'Paper', or 'Scissors' as you need.\n",
            "In case you want to quit the game, type 'Q'.\n",
            "Rock...Paper...Scissors!!: Q\n",
            "This is your result:\n",
            "Win: 1 , Loss: 1, Draw: 1\n",
            "Thank you for playing! Have a nice day!\n"
          ]
        }
      ],
      "source": [
        "import random as rand\n",
        "def game():\n",
        "  win = 0\n",
        "  loss = 0\n",
        "  draw = 0\n",
        "  actions = [\"Rock\", \"Paper\", \"Scissors\"]\n",
        "  print(\"Hello, welcome to 'Rock Paper Scissor Game'. The simple game in everyone childhood.\")\n",
        "  print(\"Let's recap the rule. The '>' represents 'beat'.\")\n",
        "  print(\"Rock > Scissors\")\n",
        "  print(\"Scissors > Paper\")\n",
        "  print(\"Paper > Rock\")\n",
        "  print(\"Sounds easy?, you know the rule clearly right now. Are you ready? Type 'Y' to start, or 'N' to exit the game.\")\n",
        "  player_response = input()\n",
        "  if player_response == \"Y\":\n",
        "    while True:\n",
        "      print(\"You can choose your action by type 'Rock', 'Paper', or 'Scissors' as you need.\")\n",
        "      print(\"In case you want to quit the game, type 'Q'.\")\n",
        "      computer_turn = rand.choice(actions)\n",
        "      player_turn = input(\"Rock...Paper...Scissors!!: \")\n",
        "      if player_turn == computer_turn:\n",
        "          print(\"The result is: 'Draw!'\")\n",
        "          draw += 1\n",
        "      elif player_turn == \"Rock\" and computer_turn == \"Paper\":\n",
        "          print(\"The result is: 'Loss!'\")\n",
        "          loss += 1\n",
        "      elif player_turn == \"Rock\" and computer_turn == \"Scissors\":\n",
        "          print(\"The result is: 'Win!'\")\n",
        "          win += 1\n",
        "      elif player_turn == \"Paper\" and computer_turn == \"Scissors\":\n",
        "          print(\"The result is: 'Loss!'\")\n",
        "          loss += 1\n",
        "      elif player_turn == \"Paper\" and computer_turn == \"Rock\":\n",
        "          print(\"The result is: 'Win!'\")\n",
        "          win += 1\n",
        "      elif player_turn == \"Scissors\" and computer_turn == \"Rock\":\n",
        "          print(\"The result is: 'Loss!'\")\n",
        "          loss += 1\n",
        "      elif player_turn == \"Scissors\" and computer_turn == \"Paper\":\n",
        "          print(\"The result is: 'Win!'\")\n",
        "          win += 1\n",
        "      elif player_turn == \"Q\":\n",
        "          print(\"This is your result:\")\n",
        "          print(f\"Win: {win} , Loss: {loss}, Draw: {draw}\")\n",
        "          print(\"Thank you for playing! Have a nice day!\")\n",
        "          break\n",
        "      else:\n",
        "          print(\"Sorry! Try again.\")\n",
        "  elif player_response == \"N\":\n",
        "    print(\"Thank you for playing! Have a nice day!\")\n",
        "  else:\n",
        "    print(\"404 ERROR NOT FOUND.\")\n",
        "    print(\"Sorry! Please refresh the game again.\")\n",
        "\n",
        "game()"
      ]
    }
  ]
}