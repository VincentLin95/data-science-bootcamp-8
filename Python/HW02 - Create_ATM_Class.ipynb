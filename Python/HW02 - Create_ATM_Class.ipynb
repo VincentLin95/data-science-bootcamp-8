{
  "nbformat": 4,
  "nbformat_minor": 0,
  "metadata": {
    "colab": {
      "provenance": [],
      "authorship_tag": "ABX9TyNNLbfRwHQGA6A7Sjk1gM2n",
      "include_colab_link": true
    },
    "kernelspec": {
      "name": "python3",
      "display_name": "Python 3"
    },
    "language_info": {
      "name": "python"
    }
  },
  "cells": [
    {
      "cell_type": "markdown",
      "metadata": {
        "id": "view-in-github",
        "colab_type": "text"
      },
      "source": [
        "<a href=\"https://colab.research.google.com/github/VincentLin95/data-science-bootcamp-8/blob/main/Python/HW02_Create_ATM_Class.ipynb\" target=\"_parent\"><img src=\"https://colab.research.google.com/assets/colab-badge.svg\" alt=\"Open In Colab\"/></a>"
      ]
    },
    {
      "cell_type": "code",
      "execution_count": 2,
      "metadata": {
        "id": "iZSk53lpJNM1"
      },
      "outputs": [],
      "source": [
        "# class ATM\n",
        "import random as rand\n",
        "class ATM:\n",
        "    def __init__(self, name, number, bank, branch, balance):\n",
        "        self.name = name\n",
        "        self.number = number\n",
        "        self.bank = bank\n",
        "        self.branch = branch\n",
        "        self.balance = balance\n",
        "# 1st method - deposit\n",
        "    def deposit(self, amount):\n",
        "        self.amount = amount\n",
        "        print(\"Good day, do you want to confirm your deposit request?\")\n",
        "        print(\"Type 'Y' for deposit some money, type 'N' for back to main menu\")\n",
        "        dep_req = input()\n",
        "        if dep_req == 'Y':\n",
        "            self.balance += amount\n",
        "            print(f\"Your deposit balance is: {self.amount} Baht\")\n",
        "            print(f\"Your total balance is: {self.balance} Baht\")\n",
        "            print(\"Thank you. Have a nice day.\")\n",
        "        elif dep_req == 'N':\n",
        "            print(\"Thank you. The system will bring you back to main menu.\")\n",
        "        else:\n",
        "            print(\"404 NOT FOUND ERROR, plaese refresh the banking system again.\")\n",
        "\n",
        "# 2nd method - withdraw\n",
        "    def withdraw(self, amount):\n",
        "        self.amount = amount\n",
        "        if self.amount > self.balance:\n",
        "            print(\"Sorry, your withdraw request was cancelled automatically because your balance wasn't enough to withdraw.\")\n",
        "        else:\n",
        "            print(\"Good day, do you want to confirm your withdraw request?\")\n",
        "            print(\"Type 'Y' for withdraw some money, type 'N' for back to main menu\")\n",
        "            wit_req = input()\n",
        "            if wit_req == 'Y':\n",
        "                self.balance -= amount\n",
        "                print(f\"Your withdraw balance is: {self.amount} Baht\")\n",
        "                print(f\"Your total balance is: {self.balance} Baht\")\n",
        "                print(\"Thank you. Have a nice day.\")\n",
        "            elif wit_req == 'N':\n",
        "                print(\"Thank you. The system will bring you back to main menu.\")\n",
        "            else:\n",
        "                print(\"404 NOT FOUND ERROR, plaese refresh the banking system again.\")\n",
        "\n",
        "# 3rd method - transfer to other account\n",
        "    def transfer(self, amount):\n",
        "        self.amount = amount\n",
        "        if self.amount > self.balance:\n",
        "            print(\"Sorry, your transfer request was cancelled automatically because your balance wasn't enough to transfer.\")\n",
        "        else:\n",
        "            print(\"Good day, do you want to confirm your transfer request?\")\n",
        "            print(\"Type 'Y' for transfer some money, type 'N' for back to main menu\")\n",
        "            tran_req = input()\n",
        "            if tran_req == 'Y':\n",
        "                self.balance -= amount\n",
        "                des_acc = input(\"Please enter account/PromptPay number: \")\n",
        "                print(\"Pease be careful the scammers or any finanicail frauding.\")\n",
        "                print(\"Do you want to confirm your request?. Type 'Y' to confirm, type 'N' to cancel.\")\n",
        "                des_confirm = input()\n",
        "                if des_confirm == 'Y':\n",
        "                    print(\"Transaction successful!.\")\n",
        "                    print(f\"Transfer {self.amount} Baht to {des_acc}.\")\n",
        "                    print(f\"Your total balance is: {self.balance} Baht\")\n",
        "                    print(\"Thank you. Have a nice day.\")\n",
        "                else:\n",
        "                    print(\"Transaction cancelled.\")\n",
        "            elif tran_req == 'N':\n",
        "                print(\"Thank you. The system will bring you back to main menu.\")\n",
        "            else:\n",
        "                print(\"404 NOT FOUND ERROR, plaese refresh the banking system again.\")\n",
        "\n",
        "# 4th method - check balance\n",
        "    def check(self):\n",
        "        print(f\"Account name: {self.name}\")\n",
        "        print(f\"Account number: {self.number}, {self.bank} ({self.branch})\")\n",
        "        print(f\"Account balance: {self.balance}\")\n",
        "\n",
        "# 5th method - OTP request\n",
        "    def OTP(self):\n",
        "        print(\"Do you want to request OTP? Type 'Y' for next step, type 'N' for cancel.\")\n",
        "        otp_req = input()\n",
        "        if otp_req == 'Y':\n",
        "            otp = list(range(0000, 9999))\n",
        "            otp_password = rand.choice(otp)\n",
        "            print(f\"Your OTP password is: {otp_password}\")\n",
        "        elif otp_req == 'N':\n",
        "            print(\"Thank you. The system will bring you back to main menu.\")\n",
        "        else:\n",
        "            print(\"404 NOT FOUND ERROR, plaese refresh the banking system again.\")"
      ]
    },
    {
      "cell_type": "code",
      "source": [
        "myacc = ATM(\"Vincent\", 1212312121, \"Kasikorn\", \"Emquatier\", 100000)"
      ],
      "metadata": {
        "id": "O804QzSiJb0y"
      },
      "execution_count": 3,
      "outputs": []
    },
    {
      "cell_type": "code",
      "source": [
        "myacc.name"
      ],
      "metadata": {
        "colab": {
          "base_uri": "https://localhost:8080/",
          "height": 36
        },
        "id": "2NgaAUHTJgNZ",
        "outputId": "c4c34ba7-48f6-4064-f408-e9f39f65e6b9"
      },
      "execution_count": 4,
      "outputs": [
        {
          "output_type": "execute_result",
          "data": {
            "text/plain": [
              "'Vincent'"
            ],
            "application/vnd.google.colaboratory.intrinsic+json": {
              "type": "string"
            }
          },
          "metadata": {},
          "execution_count": 4
        }
      ]
    },
    {
      "cell_type": "code",
      "source": [
        "myacc.number"
      ],
      "metadata": {
        "colab": {
          "base_uri": "https://localhost:8080/"
        },
        "id": "xhEkDd9zJh3q",
        "outputId": "fa5e5e46-c713-46d6-e6a2-cc7f9bf7bcd4"
      },
      "execution_count": 5,
      "outputs": [
        {
          "output_type": "execute_result",
          "data": {
            "text/plain": [
              "1212312121"
            ]
          },
          "metadata": {},
          "execution_count": 5
        }
      ]
    },
    {
      "cell_type": "code",
      "source": [
        "myacc.bank"
      ],
      "metadata": {
        "colab": {
          "base_uri": "https://localhost:8080/",
          "height": 36
        },
        "id": "HMN5ZN52Jkln",
        "outputId": "4fb74850-ce7f-4556-c738-819fe499873a"
      },
      "execution_count": 6,
      "outputs": [
        {
          "output_type": "execute_result",
          "data": {
            "text/plain": [
              "'Kasikorn'"
            ],
            "application/vnd.google.colaboratory.intrinsic+json": {
              "type": "string"
            }
          },
          "metadata": {},
          "execution_count": 6
        }
      ]
    },
    {
      "cell_type": "code",
      "source": [
        "myacc.branch"
      ],
      "metadata": {
        "colab": {
          "base_uri": "https://localhost:8080/",
          "height": 36
        },
        "id": "udFVch4-JlgO",
        "outputId": "d6b1867e-ac41-4e75-ed23-a6eef8be48a8"
      },
      "execution_count": 7,
      "outputs": [
        {
          "output_type": "execute_result",
          "data": {
            "text/plain": [
              "'Emquatier'"
            ],
            "application/vnd.google.colaboratory.intrinsic+json": {
              "type": "string"
            }
          },
          "metadata": {},
          "execution_count": 7
        }
      ]
    },
    {
      "cell_type": "code",
      "source": [
        "myacc.balance"
      ],
      "metadata": {
        "colab": {
          "base_uri": "https://localhost:8080/"
        },
        "id": "OLk8A6xcJnem",
        "outputId": "0a6583d0-7708-4666-f9e9-abf2b94b9185"
      },
      "execution_count": 9,
      "outputs": [
        {
          "output_type": "execute_result",
          "data": {
            "text/plain": [
              "100000"
            ]
          },
          "metadata": {},
          "execution_count": 9
        }
      ]
    },
    {
      "cell_type": "code",
      "source": [
        "myacc.deposit(100000)"
      ],
      "metadata": {
        "colab": {
          "base_uri": "https://localhost:8080/"
        },
        "id": "0cQwBYJ8Jo5M",
        "outputId": "44e2846e-6d6d-4248-af5e-254cc70acdef"
      },
      "execution_count": 10,
      "outputs": [
        {
          "output_type": "stream",
          "name": "stdout",
          "text": [
            "Good day, do you want to confirm your deposit request?\n",
            "Type 'Y' for deposit some money, type 'N' for back to main menu\n",
            "Y\n",
            "Your deposit balance is: 100000 Baht\n",
            "Your total balance is: 200000 Baht\n",
            "Thank you. Have a nice day.\n"
          ]
        }
      ]
    },
    {
      "cell_type": "code",
      "source": [
        "myacc.withdraw(10000)"
      ],
      "metadata": {
        "colab": {
          "base_uri": "https://localhost:8080/"
        },
        "id": "b1OeaSqMJwUx",
        "outputId": "fe6ac68b-1423-4256-8264-b6f5420306ec"
      },
      "execution_count": 11,
      "outputs": [
        {
          "output_type": "stream",
          "name": "stdout",
          "text": [
            "Good day, do you want to confirm your withdraw request?\n",
            "Type 'Y' for withdraw some money, type 'N' for back to main menu\n",
            "Y\n",
            "Your withdraw balance is: 10000 Baht\n",
            "Your total balance is: 190000 Baht\n",
            "Thank you. Have a nice day.\n"
          ]
        }
      ]
    },
    {
      "cell_type": "code",
      "source": [
        "myacc.transfer(1000)"
      ],
      "metadata": {
        "colab": {
          "base_uri": "https://localhost:8080/"
        },
        "id": "tuq0rrErJznw",
        "outputId": "0154e0eb-033b-4265-86e2-b43e63118eac"
      },
      "execution_count": 12,
      "outputs": [
        {
          "output_type": "stream",
          "name": "stdout",
          "text": [
            "Good day, do you want to confirm your transfer request?\n",
            "Type 'Y' for transfer some money, type 'N' for back to main menu\n",
            "Y\n",
            "Please enter account/PromptPay number: 0811111111\n",
            "Pease be careful the scammers or any finanicail frauding.\n",
            "Do you want to confirm your request?. Type 'Y' to confirm, type 'N' to cancel.\n",
            "Y\n",
            "Transaction successful!.\n",
            "Transfer 1000 Baht to 0811111111.\n",
            "Your total balance is: 189000 Baht\n",
            "Thank you. Have a nice day.\n"
          ]
        }
      ]
    },
    {
      "cell_type": "code",
      "source": [
        "myacc.check()"
      ],
      "metadata": {
        "colab": {
          "base_uri": "https://localhost:8080/"
        },
        "id": "KPS2JqlmJ6gh",
        "outputId": "50e30f0a-632a-4261-bff1-69e8dbc2ca3d"
      },
      "execution_count": 13,
      "outputs": [
        {
          "output_type": "stream",
          "name": "stdout",
          "text": [
            "Account name: Vincent\n",
            "Account number: 1212312121, Kasikorn (Emquatier)\n",
            "Account balance: 189000\n"
          ]
        }
      ]
    },
    {
      "cell_type": "code",
      "source": [
        "myacc.OTP()"
      ],
      "metadata": {
        "colab": {
          "base_uri": "https://localhost:8080/"
        },
        "id": "tMqNewHTKAst",
        "outputId": "a16e428f-18e4-45b9-b38a-ac19559acfff"
      },
      "execution_count": 14,
      "outputs": [
        {
          "output_type": "stream",
          "name": "stdout",
          "text": [
            "Do you want to request OTP? Type 'Y' for next step, type 'N' for cancel.\n",
            "Y\n",
            "Your OTP password is: 6877\n"
          ]
        }
      ]
    },
    {
      "cell_type": "code",
      "source": [],
      "metadata": {
        "id": "daCiXHTpKCZD"
      },
      "execution_count": null,
      "outputs": []
    }
  ]
}
